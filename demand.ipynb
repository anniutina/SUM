{
 "cells": [
  {
   "cell_type": "code",
   "execution_count": 1,
   "id": "153fdd34-43c3-41c6-9d55-0d7ad849e4d9",
   "metadata": {},
   "outputs": [],
   "source": [
    "from src import functions as fncs\n",
    "import geopandas as gpd\n",
    "import pandas as pd\n",
    "from shapely.geometry import Point"
   ]
  },
  {
   "cell_type": "code",
   "execution_count": 2,
   "id": "ba7d4ade",
   "metadata": {},
   "outputs": [],
   "source": [
    "# read files with data\n",
    "gdf_areas = gpd.read_file('data/areas_SUM.shp')\n",
    "gdf_zones = gpd.read_file('data/krk.geojson')\n",
    "gdf_centroid = gpd.read_file('data/krk_centroid.geojson')"
   ]
  },
  {
   "cell_type": "code",
   "execution_count": 3,
   "id": "0d6e2ab4",
   "metadata": {},
   "outputs": [],
   "source": [
    "# read ODMs and calculate probabilities\n",
    "od = pd.read_excel('data/krk_ODM.xlsx', 'AM_peak_PuT')\n",
    "od.rename(columns = {'464 x 464' : 'zone_NO', 'Unnamed: 2': 'sum'}, inplace = True)\n",
    "od.drop([0, 1], inplace=True)\n",
    "od.drop(od.filter(regex=\"Unname\"), axis=1, inplace=True)\n",
    "od.reset_index(drop=True, inplace=True)\n",
    "od[0:] = od[:].astype(float)\n",
    "od['zone_NO'] = od['zone_NO'].astype(int)\n",
    "# filter OD zone number to match city zones\n",
    "od_filtered = od.loc[od['zone_NO'].isin(gdf_zones['NO']), ['zone_NO', 'sum'] + gdf_zones['NO'].to_list()]\n",
    "# calculate probabilities for each origin point\n",
    "od_probs = od_filtered.loc[:, 'sum':].astype('float64').divide(od_filtered.loc[:, 'sum'].astype('float64'), axis=0)\n",
    "od_probs.insert(0, 'zone_NO', od_filtered['zone_NO'])"
   ]
  },
  {
   "cell_type": "code",
   "execution_count": 4,
   "id": "4a1add34",
   "metadata": {},
   "outputs": [],
   "source": [
    "# read demographic of the city\n",
    "df = pd.read_csv('data/krk_demographic.csv')\n",
    "df = df.rename(columns={\"adr_pelny\": \"address\", \"ogolem\": \"total\" })\n",
    "# assign zone number to each address point\n",
    "df['zone_NO'] = df.apply(lambda row: fncs.find_containing_polygon(Point(row['x'], row['y']), gdf_zones), axis=1)\n",
    "# remove the trips with nan zone\n",
    "df.dropna(subset='zone_NO', inplace=True, ignore_index=True)"
   ]
  },
  {
   "cell_type": "code",
   "execution_count": 5,
   "id": "9b921db4",
   "metadata": {},
   "outputs": [],
   "source": [
    "fncs.calc_demand(gdf_areas, df, gdf_centroid, od_probs)"
   ]
  },
  {
   "cell_type": "code",
   "execution_count": null,
   "id": "f1bddba7",
   "metadata": {},
   "outputs": [],
   "source": []
  }
 ],
 "metadata": {
  "kernelspec": {
   "display_name": "Python 3 (ipykernel)",
   "language": "python",
   "name": "python3"
  },
  "language_info": {
   "codemirror_mode": {
    "name": "ipython",
    "version": 3
   },
   "file_extension": ".py",
   "mimetype": "text/x-python",
   "name": "python",
   "nbconvert_exporter": "python",
   "pygments_lexer": "ipython3",
   "version": "3.10.0"
  }
 },
 "nbformat": 4,
 "nbformat_minor": 5
}
