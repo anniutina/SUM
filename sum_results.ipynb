{
 "cells": [
  {
   "cell_type": "code",
   "execution_count": 1,
   "metadata": {},
   "outputs": [],
   "source": [
    "import pandas as pd\n",
    "import numpy as np\n",
    "import seaborn as sns\n",
    "import matplotlib.pyplot as plt"
   ]
  },
  {
   "cell_type": "code",
   "execution_count": 2,
   "metadata": {},
   "outputs": [
    {
     "data": {
      "text/html": [
       "<div>\n",
       "<style scoped>\n",
       "    .dataframe tbody tr th:only-of-type {\n",
       "        vertical-align: middle;\n",
       "    }\n",
       "\n",
       "    .dataframe tbody tr th {\n",
       "        vertical-align: top;\n",
       "    }\n",
       "\n",
       "    .dataframe thead th {\n",
       "        text-align: right;\n",
       "    }\n",
       "</style>\n",
       "<table border=\"1\" class=\"dataframe\">\n",
       "  <thead>\n",
       "    <tr style=\"text-align: right;\">\n",
       "      <th></th>\n",
       "      <th>tw_PT_OD</th>\n",
       "      <th>tw_PT_HD</th>\n",
       "      <th>u_PT_OD</th>\n",
       "      <th>u_PT_HD</th>\n",
       "      <th>u_SUM_OD</th>\n",
       "      <th>p_SUM</th>\n",
       "      <th>Obszar</th>\n",
       "      <th>p-wo wyboru</th>\n",
       "      <th>spadek czasu oczekiwania na transport publiczny</th>\n",
       "      <th>atrakcyjność nowej usługi</th>\n",
       "      <th>wartość dodana</th>\n",
       "    </tr>\n",
       "  </thead>\n",
       "  <tbody>\n",
       "    <tr>\n",
       "      <th>0</th>\n",
       "      <td>102.269311</td>\n",
       "      <td>39.561077</td>\n",
       "      <td>14.542658</td>\n",
       "      <td>10.271394</td>\n",
       "      <td>16.722841</td>\n",
       "      <td>0.371984</td>\n",
       "      <td>Bronowice</td>\n",
       "      <td>0.371984</td>\n",
       "      <td>62.708234</td>\n",
       "      <td>-2.180183</td>\n",
       "      <td>0.628958</td>\n",
       "    </tr>\n",
       "    <tr>\n",
       "      <th>1</th>\n",
       "      <td>82.268191</td>\n",
       "      <td>34.803719</td>\n",
       "      <td>14.059999</td>\n",
       "      <td>10.042197</td>\n",
       "      <td>16.375049</td>\n",
       "      <td>0.336021</td>\n",
       "      <td>Bronowice</td>\n",
       "      <td>0.336021</td>\n",
       "      <td>47.464472</td>\n",
       "      <td>-2.315050</td>\n",
       "      <td>0.612797</td>\n",
       "    </tr>\n",
       "    <tr>\n",
       "      <th>2</th>\n",
       "      <td>89.628392</td>\n",
       "      <td>36.592133</td>\n",
       "      <td>14.093780</td>\n",
       "      <td>9.964376</td>\n",
       "      <td>16.369593</td>\n",
       "      <td>0.343866</td>\n",
       "      <td>Bronowice</td>\n",
       "      <td>0.343866</td>\n",
       "      <td>53.036260</td>\n",
       "      <td>-2.275813</td>\n",
       "      <td>0.614236</td>\n",
       "    </tr>\n",
       "    <tr>\n",
       "      <th>3</th>\n",
       "      <td>77.704403</td>\n",
       "      <td>29.049587</td>\n",
       "      <td>13.936390</td>\n",
       "      <td>9.774292</td>\n",
       "      <td>16.228619</td>\n",
       "      <td>0.371505</td>\n",
       "      <td>Bronowice</td>\n",
       "      <td>0.371505</td>\n",
       "      <td>48.654816</td>\n",
       "      <td>-2.292229</td>\n",
       "      <td>0.609300</td>\n",
       "    </tr>\n",
       "    <tr>\n",
       "      <th>4</th>\n",
       "      <td>92.948133</td>\n",
       "      <td>29.301031</td>\n",
       "      <td>14.384870</td>\n",
       "      <td>9.982009</td>\n",
       "      <td>16.542511</td>\n",
       "      <td>0.356629</td>\n",
       "      <td>Bronowice</td>\n",
       "      <td>0.356629</td>\n",
       "      <td>63.647102</td>\n",
       "      <td>-2.157641</td>\n",
       "      <td>0.624338</td>\n",
       "    </tr>\n",
       "    <tr>\n",
       "      <th>...</th>\n",
       "      <td>...</td>\n",
       "      <td>...</td>\n",
       "      <td>...</td>\n",
       "      <td>...</td>\n",
       "      <td>...</td>\n",
       "      <td>...</td>\n",
       "      <td>...</td>\n",
       "      <td>...</td>\n",
       "      <td>...</td>\n",
       "      <td>...</td>\n",
       "      <td>...</td>\n",
       "    </tr>\n",
       "    <tr>\n",
       "      <th>95</th>\n",
       "      <td>99.456647</td>\n",
       "      <td>46.258621</td>\n",
       "      <td>14.014748</td>\n",
       "      <td>8.974993</td>\n",
       "      <td>15.162799</td>\n",
       "      <td>0.382761</td>\n",
       "      <td>Skotniki</td>\n",
       "      <td>0.382761</td>\n",
       "      <td>53.198027</td>\n",
       "      <td>-1.148051</td>\n",
       "      <td>0.624459</td>\n",
       "    </tr>\n",
       "    <tr>\n",
       "      <th>96</th>\n",
       "      <td>107.919075</td>\n",
       "      <td>47.695402</td>\n",
       "      <td>14.896570</td>\n",
       "      <td>9.971839</td>\n",
       "      <td>16.173533</td>\n",
       "      <td>0.394656</td>\n",
       "      <td>Skotniki</td>\n",
       "      <td>0.394656</td>\n",
       "      <td>60.223673</td>\n",
       "      <td>-1.276964</td>\n",
       "      <td>0.648950</td>\n",
       "    </tr>\n",
       "    <tr>\n",
       "      <th>97</th>\n",
       "      <td>96.430233</td>\n",
       "      <td>41.433526</td>\n",
       "      <td>14.645161</td>\n",
       "      <td>9.270779</td>\n",
       "      <td>15.305602</td>\n",
       "      <td>0.442793</td>\n",
       "      <td>Skotniki</td>\n",
       "      <td>0.442793</td>\n",
       "      <td>54.996707</td>\n",
       "      <td>-0.660441</td>\n",
       "      <td>0.648213</td>\n",
       "    </tr>\n",
       "    <tr>\n",
       "      <th>98</th>\n",
       "      <td>107.876471</td>\n",
       "      <td>37.697674</td>\n",
       "      <td>14.674752</td>\n",
       "      <td>9.516974</td>\n",
       "      <td>15.673939</td>\n",
       "      <td>0.435247</td>\n",
       "      <td>Skotniki</td>\n",
       "      <td>0.435247</td>\n",
       "      <td>70.178796</td>\n",
       "      <td>-0.999187</td>\n",
       "      <td>0.645306</td>\n",
       "    </tr>\n",
       "    <tr>\n",
       "      <th>99</th>\n",
       "      <td>112.034682</td>\n",
       "      <td>46.520000</td>\n",
       "      <td>14.980100</td>\n",
       "      <td>9.901862</td>\n",
       "      <td>15.886782</td>\n",
       "      <td>0.464985</td>\n",
       "      <td>Skotniki</td>\n",
       "      <td>0.464985</td>\n",
       "      <td>65.514682</td>\n",
       "      <td>-0.906682</td>\n",
       "      <td>0.655331</td>\n",
       "    </tr>\n",
       "  </tbody>\n",
       "</table>\n",
       "<p>200 rows × 11 columns</p>\n",
       "</div>"
      ],
      "text/plain": [
       "      tw_PT_OD   tw_PT_HD    u_PT_OD    u_PT_HD   u_SUM_OD     p_SUM  \\\n",
       "0   102.269311  39.561077  14.542658  10.271394  16.722841  0.371984   \n",
       "1    82.268191  34.803719  14.059999  10.042197  16.375049  0.336021   \n",
       "2    89.628392  36.592133  14.093780   9.964376  16.369593  0.343866   \n",
       "3    77.704403  29.049587  13.936390   9.774292  16.228619  0.371505   \n",
       "4    92.948133  29.301031  14.384870   9.982009  16.542511  0.356629   \n",
       "..         ...        ...        ...        ...        ...       ...   \n",
       "95   99.456647  46.258621  14.014748   8.974993  15.162799  0.382761   \n",
       "96  107.919075  47.695402  14.896570   9.971839  16.173533  0.394656   \n",
       "97   96.430233  41.433526  14.645161   9.270779  15.305602  0.442793   \n",
       "98  107.876471  37.697674  14.674752   9.516974  15.673939  0.435247   \n",
       "99  112.034682  46.520000  14.980100   9.901862  15.886782  0.464985   \n",
       "\n",
       "       Obszar  p-wo wyboru  spadek czasu oczekiwania na transport publiczny  \\\n",
       "0   Bronowice     0.371984                                        62.708234   \n",
       "1   Bronowice     0.336021                                        47.464472   \n",
       "2   Bronowice     0.343866                                        53.036260   \n",
       "3   Bronowice     0.371505                                        48.654816   \n",
       "4   Bronowice     0.356629                                        63.647102   \n",
       "..        ...          ...                                              ...   \n",
       "95   Skotniki     0.382761                                        53.198027   \n",
       "96   Skotniki     0.394656                                        60.223673   \n",
       "97   Skotniki     0.442793                                        54.996707   \n",
       "98   Skotniki     0.435247                                        70.178796   \n",
       "99   Skotniki     0.464985                                        65.514682   \n",
       "\n",
       "    atrakcyjność nowej usługi  wartość dodana  \n",
       "0                   -2.180183        0.628958  \n",
       "1                   -2.315050        0.612797  \n",
       "2                   -2.275813        0.614236  \n",
       "3                   -2.292229        0.609300  \n",
       "4                   -2.157641        0.624338  \n",
       "..                        ...             ...  \n",
       "95                  -1.148051        0.624459  \n",
       "96                  -1.276964        0.648950  \n",
       "97                  -0.660441        0.648213  \n",
       "98                  -0.999187        0.645306  \n",
       "99                  -0.906682        0.655331  \n",
       "\n",
       "[200 rows x 11 columns]"
      ]
     },
     "execution_count": 2,
     "metadata": {},
     "output_type": "execute_result"
    }
   ],
   "source": [
    "Bronowice = pd.read_csv(\"results/bronowice_100.csv\", index_col=0)\n",
    "Bronowice['Obszar']='Bronowice'\n",
    "Skotniki = pd.read_csv(\"results/skotniki_100.csv\", index_col=0)\n",
    "Skotniki['Obszar']='Skotniki'\n",
    "df = pd.concat([Bronowice, Skotniki])\n",
    "df['p-wo wyboru'] = df['p_SUM']\n",
    "df['spadek czasu oczekiwania na transport publiczny'] = df['tw_PT_OD'] - df['tw_PT_HD']\n",
    "df['atrakcyjność nowej usługi'] = df['u_PT_OD']-df['u_SUM_OD']\n",
    "mu = -0.1\n",
    "df['wartość dodana'] = np.log(np.exp(mu*df['u_PT_OD'])+np.exp(mu*df['u_SUM_OD'])-np.log(np.exp(mu*df['u_PT_OD'])))\n",
    "df"
   ]
  },
  {
   "cell_type": "code",
   "execution_count": 3,
   "metadata": {},
   "outputs": [
    {
     "data": {
      "image/png": "[encoded data removed]",
      "text/plain": [
       "<Figure size 1512x288 with 4 Axes>"
      ]
     },
     "metadata": {
      "needs_background": "light"
     },
     "output_type": "display_data"
    }
   ],
   "source": [
    "fig, ax = plt.subplots(1,4, figsize=(21,4))\n",
    "                       \n",
    "for i, col in enumerate(df.columns[-4:]):\n",
    "    sns.histplot(data = df, x = col,  hue = 'Obszar', bins = 10, ax = ax[i])\n",
    "    "
   ]
  },
  {
   "cell_type": "code",
   "execution_count": 4,
   "metadata": {},
   "outputs": [],
   "source": [
    "d = df.groupby('Obszar').mean()"
   ]
  },
  {
   "cell_type": "code",
   "execution_count": 6,
   "metadata": {},
   "outputs": [
    {
     "data": {
      "image/png": "[encoded data removed]",
      "text/plain": [
       "<Figure size 432x288 with 1 Axes>"
      ]
     },
     "metadata": {
      "needs_background": "light"
     },
     "output_type": "display_data"
    }
   ],
   "source": [
    "sns.histplot(data = df, x = df['p-wo wyboru'], hue = 'Obszar', bins = 10)\n",
    "plt.axvline(d.loc['Bronowice', 'p-wo wyboru'], linestyle='--', color=\"royalblue\")\n",
    "plt.axvline(d.loc['Skotniki', 'p-wo wyboru'], linestyle='--', color=\"darkorange\")\n",
    "# plt.savefig('results/images/p-wo_wyboru.png', dpi=300)\n",
    "plt.show()"
   ]
  },
  {
   "cell_type": "code",
   "execution_count": null,
   "metadata": {},
   "outputs": [
    {
     "data": {
      "image/png": "[encoded data removed]",
      "text/plain": [
       "<Figure size 432x288 with 1 Axes>"
      ]
     },
     "metadata": {
      "needs_background": "light"
     },
     "output_type": "display_data"
    }
   ],
   "source": [
    "sns.histplot(data = df, x = df['spadek czasu oczekiwania na transport publiczny'], hue = 'Obszar', bins = 10)\n",
    "plt.axvline(d.loc['Bronowice', 'spadek czasu oczekiwania na transport publiczny'], linestyle='--', color=\"royalblue\")\n",
    "plt.axvline(d.loc['Skotniki', 'spadek czasu oczekiwania na transport publiczny'], linestyle='--', color=\"darkorange\")\n",
    "plt.savefig('results/images/spadek_czasu_oczek.png', dpi=300)\n",
    "plt.show()"
   ]
  },
  {
   "cell_type": "code",
   "execution_count": 12,
   "metadata": {},
   "outputs": [
    {
     "data": {
      "image/png": "[encoded data removed]",
      "text/plain": [
       "<Figure size 432x288 with 1 Axes>"
      ]
     },
     "metadata": {
      "needs_background": "light"
     },
     "output_type": "display_data"
    }
   ],
   "source": [
    "sns.histplot(data = df, x = df['atrakcyjność nowej usługi'], hue = 'Obszar', bins = 10)\n",
    "plt.axvline(d.loc['Bronowice', 'atrakcyjność nowej usługi'], linestyle='--', color=\"royalblue\")\n",
    "plt.axvline(d.loc['Skotniki', 'atrakcyjność nowej usługi'], linestyle='--', color=\"darkorange\")\n",
    "plt.savefig('images/atrakcyjnosc.png', dpi=300)\n",
    "plt.show()"
   ]
  },
  {
   "cell_type": "code",
   "execution_count": 7,
   "metadata": {},
   "outputs": [
    {
     "data": {
      "image/png": "[encoded data removed]",
      "text/plain": [
       "<Figure size 432x288 with 1 Axes>"
      ]
     },
     "metadata": {
      "needs_background": "light"
     },
     "output_type": "display_data"
    }
   ],
   "source": [
    "sns.histplot(data = df, x = df['wartość dodana'], hue = 'Obszar', bins = 10)\n",
    "plt.axvline(d.loc['Bronowice', 'wartość dodana'], linestyle='--', color=\"royalblue\")\n",
    "plt.axvline(d.loc['Skotniki', 'wartość dodana'], linestyle='--', color=\"darkorange\")\n",
    "# plt.savefig('results/images/wartosc_dodana.png', dpi=300)\n",
    "plt.show()"
   ]
  },
  {
   "cell_type": "code",
   "execution_count": 8,
   "metadata": {},
   "outputs": [
    {
     "data": {
      "text/html": [
       "<div>\n",
       "<style scoped>\n",
       "    .dataframe tbody tr th:only-of-type {\n",
       "        vertical-align: middle;\n",
       "    }\n",
       "\n",
       "    .dataframe tbody tr th {\n",
       "        vertical-align: top;\n",
       "    }\n",
       "\n",
       "    .dataframe thead th {\n",
       "        text-align: right;\n",
       "    }\n",
       "</style>\n",
       "<table border=\"1\" class=\"dataframe\">\n",
       "  <thead>\n",
       "    <tr style=\"text-align: right;\">\n",
       "      <th></th>\n",
       "      <th>tw_PT_OD</th>\n",
       "      <th>tw_PT_HD</th>\n",
       "      <th>u_PT_OD</th>\n",
       "      <th>u_PT_HD</th>\n",
       "      <th>u_SUM_OD</th>\n",
       "      <th>p_SUM</th>\n",
       "      <th>p-wo wyboru</th>\n",
       "      <th>spadek czasu oczekiwania na transport publiczny</th>\n",
       "      <th>atrakcyjność nowej usługi</th>\n",
       "      <th>wartość dodana</th>\n",
       "    </tr>\n",
       "    <tr>\n",
       "      <th>Obszar</th>\n",
       "      <th></th>\n",
       "      <th></th>\n",
       "      <th></th>\n",
       "      <th></th>\n",
       "      <th></th>\n",
       "      <th></th>\n",
       "      <th></th>\n",
       "      <th></th>\n",
       "      <th></th>\n",
       "      <th></th>\n",
       "    </tr>\n",
       "  </thead>\n",
       "  <tbody>\n",
       "    <tr>\n",
       "      <th>Bronowice</th>\n",
       "      <td>93.807</td>\n",
       "      <td>35.476</td>\n",
       "      <td>14.352</td>\n",
       "      <td>10.036</td>\n",
       "      <td>16.456</td>\n",
       "      <td>0.362</td>\n",
       "      <td>0.362</td>\n",
       "      <td>58.331</td>\n",
       "      <td>-2.105</td>\n",
       "      <td>0.624</td>\n",
       "    </tr>\n",
       "    <tr>\n",
       "      <th>Skotniki</th>\n",
       "      <td>94.579</td>\n",
       "      <td>36.280</td>\n",
       "      <td>14.356</td>\n",
       "      <td>9.277</td>\n",
       "      <td>15.435</td>\n",
       "      <td>0.406</td>\n",
       "      <td>0.406</td>\n",
       "      <td>58.299</td>\n",
       "      <td>-1.079</td>\n",
       "      <td>0.635</td>\n",
       "    </tr>\n",
       "  </tbody>\n",
       "</table>\n",
       "</div>"
      ],
      "text/plain": [
       "           tw_PT_OD  tw_PT_HD  u_PT_OD  u_PT_HD  u_SUM_OD  p_SUM  p-wo wyboru  \\\n",
       "Obszar                                                                          \n",
       "Bronowice    93.807    35.476   14.352   10.036    16.456  0.362        0.362   \n",
       "Skotniki     94.579    36.280   14.356    9.277    15.435  0.406        0.406   \n",
       "\n",
       "           spadek czasu oczekiwania na transport publiczny  \\\n",
       "Obszar                                                       \n",
       "Bronowice                                           58.331   \n",
       "Skotniki                                            58.299   \n",
       "\n",
       "           atrakcyjność nowej usługi  wartość dodana  \n",
       "Obszar                                                \n",
       "Bronowice                     -2.105           0.624  \n",
       "Skotniki                      -1.079           0.635  "
      ]
     },
     "execution_count": 8,
     "metadata": {},
     "output_type": "execute_result"
    }
   ],
   "source": [
    "d = round(d, 3)\n",
    "d"
   ]
  },
  {
   "cell_type": "code",
   "execution_count": 48,
   "metadata": {},
   "outputs": [],
   "source": [
    "# d.to_csv(\"results/results_SUM.csv\")"
   ]
  }
 ],
 "metadata": {
  "kernelspec": {
   "display_name": "ExMAS",
   "language": "python",
   "name": "python3"
  },
  "language_info": {
   "codemirror_mode": {
    "name": "ipython",
    "version": 3
   },
   "file_extension": ".py",
   "mimetype": "text/x-python",
   "name": "python",
   "nbconvert_exporter": "python",
   "pygments_lexer": "ipython3",
   "version": "3.10.0"
  }
 },
 "nbformat": 4,
 "nbformat_minor": 2
}
